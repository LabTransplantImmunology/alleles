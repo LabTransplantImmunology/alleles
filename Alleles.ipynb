{
 "cells": [
  {
   "cell_type": "code",
   "execution_count": 23,
   "id": "46642185",
   "metadata": {},
   "outputs": [],
   "source": []
  },
  {
   "cell_type": "code",
   "execution_count": 20,
   "id": "5606bc01",
   "metadata": {},
   "outputs": [
    {
     "name": "stdout",
     "output_type": "stream",
     "text": [
      "Введите то, до какого знака вы собираетесь обрезать аллель, целое число. Например, если вам нужно оставить первые значения (например, HLA-A1*02), введите 2, если вторые (HLA-A1*02*01) - 5, и т.д.2\n",
      "Введите ген в формате HLA-X1*, например, HLA-A1*HLA-A1*\n",
      "Введите аллель в формате XX, например 0201\n"
     ]
    },
    {
     "data": {
      "text/plain": [
       "Index(['1776', '1790', '1800'], dtype='object', name='Sample ID')"
      ]
     },
     "execution_count": 20,
     "metadata": {},
     "output_type": "execute_result"
    }
   ],
   "source": [
    "import pandas as pd\n",
    "#надо покопаться с engine, чтобы он кушал xlsx, пока что лучше пересохранить в xls\n",
    "donors = pd.read_excel (\"/home/arus/Загрузки/Telegram Desktop/HLA for AKh.xls\", engine = \"xlrd\", nrows = 19, index_col=0, keep_default_na=False ) \n",
    "h = int (input (\"Введите то, до какого знака вы собираетесь обрезать аллель, целое число. Например, если вам нужно оставить первые значения (например, HLA-A1*02), введите 2, если вторые (HLA-A1*02*01) - 5, и т.д.\"))\n",
    "donors = donors.apply(lambda x: pd.Series(x).str.slice_replace(h, repl=\"\"))\n",
    "y = str(input (\"Введите ген в формате HLA-X1*, например, HLA-A1*\"))\n",
    "x = str(input(\"Введите аллель в формате XX, например 02\"))\n",
    "donors.index [donors[y]==x]\n"
   ]
  },
  {
   "cell_type": "code",
   "execution_count": 17,
   "id": "1687c1bf",
   "metadata": {},
   "outputs": [],
   "source": []
  },
  {
   "cell_type": "code",
   "execution_count": null,
   "id": "519a222d",
   "metadata": {},
   "outputs": [],
   "source": []
  },
  {
   "cell_type": "code",
   "execution_count": null,
   "id": "cb4bd65b",
   "metadata": {},
   "outputs": [],
   "source": []
  }
 ],
 "metadata": {
  "kernelspec": {
   "display_name": "Python 3",
   "language": "python",
   "name": "python3"
  },
  "language_info": {
   "codemirror_mode": {
    "name": "ipython",
    "version": 3
   },
   "file_extension": ".py",
   "mimetype": "text/x-python",
   "name": "python",
   "nbconvert_exporter": "python",
   "pygments_lexer": "ipython3",
   "version": "3.6.9"
  }
 },
 "nbformat": 4,
 "nbformat_minor": 5
}
